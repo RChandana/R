{
  "nbformat": 4,
  "nbformat_minor": 0,
  "metadata": {
    "colab": {
      "provenance": [],
      "authorship_tag": "ABX9TyPuPzxrzJax4m0R8IQaOYLU",
      "include_colab_link": true
    },
    "kernelspec": {
      "name": "ir",
      "display_name": "R"
    },
    "language_info": {
      "name": "R"
    }
  },
  "cells": [
    {
      "cell_type": "markdown",
      "metadata": {
        "id": "view-in-github",
        "colab_type": "text"
      },
      "source": [
        "<a href=\"https://colab.research.google.com/github/RChandana/R/blob/main/Basic_Functions.ipynb\" target=\"_parent\"><img src=\"https://colab.research.google.com/assets/colab-badge.svg\" alt=\"Open In Colab\"/></a>"
      ]
    },
    {
      "cell_type": "code",
      "execution_count": 1,
      "metadata": {
        "colab": {
          "base_uri": "https://localhost:8080/",
          "height": 34
        },
        "id": "vhB995uzgK9V",
        "outputId": "a52f320f-2858-44ea-fbe3-d59692b5e1c9"
      },
      "outputs": [
        {
          "output_type": "display_data",
          "data": {
            "text/html": [
              "20"
            ],
            "text/markdown": "20",
            "text/latex": "20",
            "text/plain": [
              "[1] 20"
            ]
          },
          "metadata": {}
        }
      ],
      "source": [
        "# Product of two numbers :\n",
        "\n",
        "product = function(a, b){\n",
        "  if(b==1){\n",
        "    return(a)\n",
        "  }\n",
        "  else{\n",
        "    return(a + product(a, b-1))\n",
        "  }\n",
        "}\n",
        "product(4, 5)"
      ]
    },
    {
      "cell_type": "code",
      "source": [
        "# Factorial of a number :\n",
        "\n",
        "factorial = function(a){\n",
        "  if(a == 0 || a == 1){\n",
        "    return(1)\n",
        "  }\n",
        "  else{\n",
        "    return(a*factorial(a - 1))\n",
        "  }\n",
        "}\n",
        "factorial(5)\n"
      ],
      "metadata": {
        "colab": {
          "base_uri": "https://localhost:8080/",
          "height": 34
        },
        "id": "vpOIiJnjgQbo",
        "outputId": "0ca23c98-b160-4121-8e6b-e9de72db4c2f"
      },
      "execution_count": 2,
      "outputs": [
        {
          "output_type": "display_data",
          "data": {
            "text/html": [
              "120"
            ],
            "text/markdown": "120",
            "text/latex": "120",
            "text/plain": [
              "[1] 120"
            ]
          },
          "metadata": {}
        }
      ]
    },
    {
      "cell_type": "code",
      "source": [
        "# Sum elements in a vector :\n",
        "\n",
        "sum = function(vec){\n",
        "  if(length(vec)<=1){\n",
        "    return(vec[1])\n",
        "  }\n",
        "  else{\n",
        "    return(vec[1]+sum(vec[-1]))\n",
        "  }\n",
        "}\n",
        "vector = c(1:10)\n",
        "sum(vector)"
      ],
      "metadata": {
        "colab": {
          "base_uri": "https://localhost:8080/",
          "height": 34
        },
        "id": "3THBTu6dgSuM",
        "outputId": "e4b7063f-9c54-4e78-cbc1-6c8024f14f7e"
      },
      "execution_count": 3,
      "outputs": [
        {
          "output_type": "display_data",
          "data": {
            "text/html": [
              "55"
            ],
            "text/markdown": "55",
            "text/latex": "55",
            "text/plain": [
              "[1] 55"
            ]
          },
          "metadata": {}
        }
      ]
    },
    {
      "cell_type": "code",
      "source": [
        "# Sum of didgits in a number :\n",
        "\n",
        "sum_digits = function(x){\n",
        "  if(x<10){\n",
        "    return(x)\n",
        "  }\n",
        "  else{\n",
        "    return((x%%10) + sum_digits(x%/%10))\n",
        "  }\n",
        "}\n",
        "sum_digits(1234)"
      ],
      "metadata": {
        "colab": {
          "base_uri": "https://localhost:8080/",
          "height": 34
        },
        "id": "0cv6gsnogVA5",
        "outputId": "bc813721-39f1-4616-effe-db1553499095"
      },
      "execution_count": 4,
      "outputs": [
        {
          "output_type": "display_data",
          "data": {
            "text/html": [
              "10"
            ],
            "text/markdown": "10",
            "text/latex": "10",
            "text/plain": [
              "[1] 10"
            ]
          },
          "metadata": {}
        }
      ]
    },
    {
      "cell_type": "code",
      "source": [
        "# Print the values of a number in reverse order :\n",
        "\n",
        "result = function(x){\n",
        "  if(x<10){\n",
        "    print(x)\n",
        "  }\n",
        "  else{\n",
        "    print(x%%10)\n",
        "    result(x%/%10)\n",
        "  }\n",
        "}\n",
        "result(1234)"
      ],
      "metadata": {
        "colab": {
          "base_uri": "https://localhost:8080/"
        },
        "id": "-Kk3fF0XgXKK",
        "outputId": "9cbd0ed9-c1aa-44c0-d657-853a5ea0a774"
      },
      "execution_count": 5,
      "outputs": [
        {
          "output_type": "stream",
          "name": "stdout",
          "text": [
            "[1] 4\n",
            "[1] 3\n",
            "[1] 2\n",
            "[1] 1\n"
          ]
        }
      ]
    }
  ]
}