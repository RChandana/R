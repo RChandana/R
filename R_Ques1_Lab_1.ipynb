{
  "nbformat": 4,
  "nbformat_minor": 0,
  "metadata": {
    "colab": {
      "provenance": [],
      "authorship_tag": "ABX9TyOwCxCXaE7IWXDCMVsQ2tuF",
      "include_colab_link": true
    },
    "kernelspec": {
      "name": "ir",
      "display_name": "R"
    },
    "language_info": {
      "name": "R"
    },
    "gpuClass": "standard"
  },
  "cells": [
    {
      "cell_type": "markdown",
      "metadata": {
        "id": "view-in-github",
        "colab_type": "text"
      },
      "source": [
        "<a href=\"https://colab.research.google.com/github/RChandana/R/blob/main/R_Ques1_Lab_1.ipynb\" target=\"_parent\"><img src=\"https://colab.research.google.com/assets/colab-badge.svg\" alt=\"Open In Colab\"/></a>"
      ]
    },
    {
      "cell_type": "code",
      "execution_count": 13,
      "metadata": {
        "colab": {
          "base_uri": "https://localhost:8080/",
          "height": 34
        },
        "id": "50KCWK6u0QpI",
        "outputId": "827255c9-d914-46be-e143-47c8a4f7b4ed"
      },
      "outputs": [
        {
          "output_type": "display_data",
          "data": {
            "text/html": [
              "<style>\n",
              ".list-inline {list-style: none; margin:0; padding: 0}\n",
              ".list-inline>li {display: inline-block}\n",
              ".list-inline>li:not(:last-child)::after {content: \"\\00b7\"; padding: 0 .5ex}\n",
              "</style>\n",
              "<ol class=list-inline><li>5</li><li>12</li><li>7</li><li>2</li><li>6</li><li>45</li><li>11</li><li>3</li><li>63</li></ol>\n"
            ],
            "text/markdown": "1. 5\n2. 12\n3. 7\n4. 2\n5. 6\n6. 45\n7. 11\n8. 3\n9. 63\n\n\n",
            "text/latex": "\\begin{enumerate*}\n\\item 5\n\\item 12\n\\item 7\n\\item 2\n\\item 6\n\\item 45\n\\item 11\n\\item 3\n\\item 63\n\\end{enumerate*}\n",
            "text/plain": [
              "[1]  5 12  7  2  6 45 11  3 63"
            ]
          },
          "metadata": {}
        }
      ],
      "source": [
        "# Enter the elements {5, 12, 7, 2, 6, 45, 11, 3, 63} and store in a variable 𝑥\n",
        "x =  c(5, 12, 7, 2, 6, 45, 11, 3, 63)\n",
        "x"
      ]
    },
    {
      "cell_type": "code",
      "source": [
        "# Find the number of elements of 𝑥\n",
        "length(x)"
      ],
      "metadata": {
        "colab": {
          "base_uri": "https://localhost:8080/",
          "height": 34
        },
        "id": "w4x1UQdy0fgc",
        "outputId": "de8ebd0e-2df4-4a37-a0eb-100b564ba28f"
      },
      "execution_count": 14,
      "outputs": [
        {
          "output_type": "display_data",
          "data": {
            "text/html": [
              "9"
            ],
            "text/markdown": "9",
            "text/latex": "9",
            "text/plain": [
              "[1] 9"
            ]
          },
          "metadata": {}
        }
      ]
    },
    {
      "cell_type": "code",
      "source": [
        "# Find the 5th, 8th elements\n",
        "x[5]\n",
        "x[8]"
      ],
      "metadata": {
        "colab": {
          "base_uri": "https://localhost:8080/",
          "height": 52
        },
        "id": "73JpRiFZ0oDO",
        "outputId": "069ff6b0-84de-49d8-85f3-964e7f1e8d70"
      },
      "execution_count": 15,
      "outputs": [
        {
          "output_type": "display_data",
          "data": {
            "text/html": [
              "6"
            ],
            "text/markdown": "6",
            "text/latex": "6",
            "text/plain": [
              "[1] 6"
            ]
          },
          "metadata": {}
        },
        {
          "output_type": "display_data",
          "data": {
            "text/html": [
              "3"
            ],
            "text/markdown": "3",
            "text/latex": "3",
            "text/plain": [
              "[1] 3"
            ]
          },
          "metadata": {}
        }
      ]
    },
    {
      "cell_type": "code",
      "source": [
        "# Find the minimum element of 𝑥.\n",
        "min(x)\n",
        "\n",
        "# Find the maximum element of 𝑥.\n",
        "max(x)"
      ],
      "metadata": {
        "colab": {
          "base_uri": "https://localhost:8080/",
          "height": 52
        },
        "id": "xPNAqpXT012w",
        "outputId": "c5a3a150-feb3-4d87-9795-725b39ee577d"
      },
      "execution_count": 16,
      "outputs": [
        {
          "output_type": "display_data",
          "data": {
            "text/html": [
              "2"
            ],
            "text/markdown": "2",
            "text/latex": "2",
            "text/plain": [
              "[1] 2"
            ]
          },
          "metadata": {}
        },
        {
          "output_type": "display_data",
          "data": {
            "text/html": [
              "63"
            ],
            "text/markdown": "63",
            "text/latex": "63",
            "text/plain": [
              "[1] 63"
            ]
          },
          "metadata": {}
        }
      ]
    },
    {
      "cell_type": "code",
      "source": [
        "# Enter the data {1, 2, .... ,19,20} in a variable 𝑥.\n",
        "x = c(1, 2, 3, 4, 5, 6, 7, 8, 9, 10, 11, 12, 13, 14, 15, 16, 17, 18, 19, 20)"
      ],
      "metadata": {
        "id": "DXGsnRhW06E7"
      },
      "execution_count": 17,
      "outputs": []
    },
    {
      "cell_type": "code",
      "source": [
        "# Find the 3rd element in the data list.\n",
        "x[3]\n",
        "\n",
        "# Find 3rd to 5th element in the data list.\n",
        "x[3:5]"
      ],
      "metadata": {
        "colab": {
          "base_uri": "https://localhost:8080/",
          "height": 52
        },
        "id": "L75KGJtp09Nk",
        "outputId": "edf98572-ad26-4860-ce39-c25830bfffc2"
      },
      "execution_count": 18,
      "outputs": [
        {
          "output_type": "display_data",
          "data": {
            "text/html": [
              "3"
            ],
            "text/markdown": "3",
            "text/latex": "3",
            "text/plain": [
              "[1] 3"
            ]
          },
          "metadata": {}
        },
        {
          "output_type": "display_data",
          "data": {
            "text/html": [
              "<style>\n",
              ".list-inline {list-style: none; margin:0; padding: 0}\n",
              ".list-inline>li {display: inline-block}\n",
              ".list-inline>li:not(:last-child)::after {content: \"\\00b7\"; padding: 0 .5ex}\n",
              "</style>\n",
              "<ol class=list-inline><li>3</li><li>4</li><li>5</li></ol>\n"
            ],
            "text/markdown": "1. 3\n2. 4\n3. 5\n\n\n",
            "text/latex": "\\begin{enumerate*}\n\\item 3\n\\item 4\n\\item 5\n\\end{enumerate*}\n",
            "text/plain": [
              "[1] 3 4 5"
            ]
          },
          "metadata": {}
        }
      ]
    },
    {
      "cell_type": "code",
      "source": [
        "# Find 2nd, 5th, 6th, and 12th element in the list.\n",
        "x[2]\n",
        "x[5]\n",
        "x[6]\n",
        "x[12]"
      ],
      "metadata": {
        "colab": {
          "base_uri": "https://localhost:8080/",
          "height": 86
        },
        "id": "T4oX7nQG0_6H",
        "outputId": "693414bb-6c82-44d8-ec83-8e2e96cd93e9"
      },
      "execution_count": 19,
      "outputs": [
        {
          "output_type": "display_data",
          "data": {
            "text/html": [
              "2"
            ],
            "text/markdown": "2",
            "text/latex": "2",
            "text/plain": [
              "[1] 2"
            ]
          },
          "metadata": {}
        },
        {
          "output_type": "display_data",
          "data": {
            "text/html": [
              "5"
            ],
            "text/markdown": "5",
            "text/latex": "5",
            "text/plain": [
              "[1] 5"
            ]
          },
          "metadata": {}
        },
        {
          "output_type": "display_data",
          "data": {
            "text/html": [
              "6"
            ],
            "text/markdown": "6",
            "text/latex": "6",
            "text/plain": [
              "[1] 6"
            ]
          },
          "metadata": {}
        },
        {
          "output_type": "display_data",
          "data": {
            "text/html": [
              "12"
            ],
            "text/markdown": "12",
            "text/latex": "12",
            "text/plain": [
              "[1] 12"
            ]
          },
          "metadata": {}
        }
      ]
    },
    {
      "cell_type": "code",
      "source": [
        "# Print the data as {20, 19, ..., 2, 1} without again entering the data.\n",
        "x[20:1]"
      ],
      "metadata": {
        "colab": {
          "base_uri": "https://localhost:8080/",
          "height": 34
        },
        "id": "pxWnLJNg1B9c",
        "outputId": "e58b6571-d074-45a9-838a-36b0418d786d"
      },
      "execution_count": 20,
      "outputs": [
        {
          "output_type": "display_data",
          "data": {
            "text/html": [
              "<style>\n",
              ".list-inline {list-style: none; margin:0; padding: 0}\n",
              ".list-inline>li {display: inline-block}\n",
              ".list-inline>li:not(:last-child)::after {content: \"\\00b7\"; padding: 0 .5ex}\n",
              "</style>\n",
              "<ol class=list-inline><li>20</li><li>19</li><li>18</li><li>17</li><li>16</li><li>15</li><li>14</li><li>13</li><li>12</li><li>11</li><li>10</li><li>9</li><li>8</li><li>7</li><li>6</li><li>5</li><li>4</li><li>3</li><li>2</li><li>1</li></ol>\n"
            ],
            "text/markdown": "1. 20\n2. 19\n3. 18\n4. 17\n5. 16\n6. 15\n7. 14\n8. 13\n9. 12\n10. 11\n11. 10\n12. 9\n13. 8\n14. 7\n15. 6\n16. 5\n17. 4\n18. 3\n19. 2\n20. 1\n\n\n",
            "text/latex": "\\begin{enumerate*}\n\\item 20\n\\item 19\n\\item 18\n\\item 17\n\\item 16\n\\item 15\n\\item 14\n\\item 13\n\\item 12\n\\item 11\n\\item 10\n\\item 9\n\\item 8\n\\item 7\n\\item 6\n\\item 5\n\\item 4\n\\item 3\n\\item 2\n\\item 1\n\\end{enumerate*}\n",
            "text/plain": [
              " [1] 20 19 18 17 16 15 14 13 12 11 10  9  8  7  6  5  4  3  2  1"
            ]
          },
          "metadata": {}
        }
      ]
    }
  ]
}