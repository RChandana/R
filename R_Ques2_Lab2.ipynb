{
  "nbformat": 4,
  "nbformat_minor": 0,
  "metadata": {
    "colab": {
      "provenance": [],
      "authorship_tag": "ABX9TyNuLw7cMKsB3g3MpJoLZhnM",
      "include_colab_link": true
    },
    "kernelspec": {
      "name": "ir",
      "display_name": "R"
    },
    "language_info": {
      "name": "R"
    }
  },
  "cells": [
    {
      "cell_type": "markdown",
      "metadata": {
        "id": "view-in-github",
        "colab_type": "text"
      },
      "source": [
        "<a href=\"https://colab.research.google.com/github/RChandana/R/blob/main/R_Ques2_Lab2.ipynb\" target=\"_parent\"><img src=\"https://colab.research.google.com/assets/colab-badge.svg\" alt=\"Open In Colab\"/></a>"
      ]
    },
    {
      "cell_type": "code",
      "execution_count": 15,
      "metadata": {
        "id": "yswwdH2d0B5J"
      },
      "outputs": [],
      "source": [
        "# Reading a data file and working with it: \n",
        "# a) Read the file first and store it in a.\n",
        "customer_name = c('Chandana', 'Sreya', 'Mohisha', 'Resshmi', 'Aditya', 'Pranay', 'Siddu', 'Yousuf', 'Rahul', 'Suresh')\n",
        "customer_id = c(12643, 55434, 98345, 67035, 42345, 63345, 85632, 52467, 85673, 12324)\n",
        "customer_age = c(32, 54, 77, 12, 65, 34, 23, 62, 73, 10)\n",
        "customer_amount_paid = c(120, 500, 350, 100, 2000, 65, 420, 70, 1070, 450)\n",
        "a = data.frame(customer_name, customer_id, customer_age, customer_amount_paid)"
      ]
    },
    {
      "cell_type": "code",
      "source": [
        "# b) How many rows are there in this table? How many columns are there? \n",
        "ncol(a)\n",
        "nrow(a)"
      ],
      "metadata": {
        "colab": {
          "base_uri": "https://localhost:8080/",
          "height": 52
        },
        "id": "Ahzhce-F6R-m",
        "outputId": "65b3f42e-8e31-4941-836e-a774a19e461f"
      },
      "execution_count": 16,
      "outputs": [
        {
          "output_type": "display_data",
          "data": {
            "text/html": [
              "4"
            ],
            "text/markdown": "4",
            "text/latex": "4",
            "text/plain": [
              "[1] 4"
            ]
          },
          "metadata": {}
        },
        {
          "output_type": "display_data",
          "data": {
            "text/html": [
              "10"
            ],
            "text/markdown": "10",
            "text/latex": "10",
            "text/plain": [
              "[1] 10"
            ]
          },
          "metadata": {}
        }
      ]
    },
    {
      "cell_type": "code",
      "source": [
        "# c) How to find the number of rows and number of columns by a single command?\n",
        "dim(a)\n",
        "\n",
        "# d) What are the variables in the data file?\n",
        "colnames(a)"
      ],
      "metadata": {
        "colab": {
          "base_uri": "https://localhost:8080/",
          "height": 52
        },
        "id": "3deNyFwd6TxT",
        "outputId": "ccaee267-bcf1-4f5b-b4e6-f20c01adfd77"
      },
      "execution_count": 17,
      "outputs": [
        {
          "output_type": "display_data",
          "data": {
            "text/html": [
              "<style>\n",
              ".list-inline {list-style: none; margin:0; padding: 0}\n",
              ".list-inline>li {display: inline-block}\n",
              ".list-inline>li:not(:last-child)::after {content: \"\\00b7\"; padding: 0 .5ex}\n",
              "</style>\n",
              "<ol class=list-inline><li>10</li><li>4</li></ol>\n"
            ],
            "text/markdown": "1. 10\n2. 4\n\n\n",
            "text/latex": "\\begin{enumerate*}\n\\item 10\n\\item 4\n\\end{enumerate*}\n",
            "text/plain": [
              "[1] 10  4"
            ]
          },
          "metadata": {}
        },
        {
          "output_type": "display_data",
          "data": {
            "text/html": [
              "<style>\n",
              ".list-inline {list-style: none; margin:0; padding: 0}\n",
              ".list-inline>li {display: inline-block}\n",
              ".list-inline>li:not(:last-child)::after {content: \"\\00b7\"; padding: 0 .5ex}\n",
              "</style>\n",
              "<ol class=list-inline><li>'customer_name'</li><li>'customer_id'</li><li>'customer_age'</li><li>'customer_amount_paid'</li></ol>\n"
            ],
            "text/markdown": "1. 'customer_name'\n2. 'customer_id'\n3. 'customer_age'\n4. 'customer_amount_paid'\n\n\n",
            "text/latex": "\\begin{enumerate*}\n\\item 'customer\\_name'\n\\item 'customer\\_id'\n\\item 'customer\\_age'\n\\item 'customer\\_amount\\_paid'\n\\end{enumerate*}\n",
            "text/plain": [
              "[1] \"customer_name\"        \"customer_id\"          \"customer_age\"        \n",
              "[4] \"customer_amount_paid\""
            ]
          },
          "metadata": {}
        }
      ]
    },
    {
      "cell_type": "code",
      "source": [
        "# e) If the file is very large, naturally we cannot simply type `a', because it will cover the entire screen and we won't be able to understand anything. \n",
        "#    So how to see the top or bottom few lines in this file?\n",
        "head(a)\n",
        "tail(a)"
      ],
      "metadata": {
        "colab": {
          "base_uri": "https://localhost:8080/",
          "height": 555
        },
        "id": "IDOcAJ4H6WgL",
        "outputId": "e45aaa67-7731-4c9a-f562-37a1ceb8bbce"
      },
      "execution_count": 18,
      "outputs": [
        {
          "output_type": "display_data",
          "data": {
            "text/html": [
              "<table class=\"dataframe\">\n",
              "<caption>A data.frame: 6 × 4</caption>\n",
              "<thead>\n",
              "\t<tr><th></th><th scope=col>customer_name</th><th scope=col>customer_id</th><th scope=col>customer_age</th><th scope=col>customer_amount_paid</th></tr>\n",
              "\t<tr><th></th><th scope=col>&lt;chr&gt;</th><th scope=col>&lt;dbl&gt;</th><th scope=col>&lt;dbl&gt;</th><th scope=col>&lt;dbl&gt;</th></tr>\n",
              "</thead>\n",
              "<tbody>\n",
              "\t<tr><th scope=row>1</th><td>Chandana</td><td>12643</td><td>32</td><td> 120</td></tr>\n",
              "\t<tr><th scope=row>2</th><td>Sreya   </td><td>55434</td><td>54</td><td> 500</td></tr>\n",
              "\t<tr><th scope=row>3</th><td>Mohisha </td><td>98345</td><td>77</td><td> 350</td></tr>\n",
              "\t<tr><th scope=row>4</th><td>Resshmi </td><td>67035</td><td>12</td><td> 100</td></tr>\n",
              "\t<tr><th scope=row>5</th><td>Aditya  </td><td>42345</td><td>65</td><td>2000</td></tr>\n",
              "\t<tr><th scope=row>6</th><td>Pranay  </td><td>63345</td><td>34</td><td>  65</td></tr>\n",
              "</tbody>\n",
              "</table>\n"
            ],
            "text/markdown": "\nA data.frame: 6 × 4\n\n| <!--/--> | customer_name &lt;chr&gt; | customer_id &lt;dbl&gt; | customer_age &lt;dbl&gt; | customer_amount_paid &lt;dbl&gt; |\n|---|---|---|---|---|\n| 1 | Chandana | 12643 | 32 |  120 |\n| 2 | Sreya    | 55434 | 54 |  500 |\n| 3 | Mohisha  | 98345 | 77 |  350 |\n| 4 | Resshmi  | 67035 | 12 |  100 |\n| 5 | Aditya   | 42345 | 65 | 2000 |\n| 6 | Pranay   | 63345 | 34 |   65 |\n\n",
            "text/latex": "A data.frame: 6 × 4\n\\begin{tabular}{r|llll}\n  & customer\\_name & customer\\_id & customer\\_age & customer\\_amount\\_paid\\\\\n  & <chr> & <dbl> & <dbl> & <dbl>\\\\\n\\hline\n\t1 & Chandana & 12643 & 32 &  120\\\\\n\t2 & Sreya    & 55434 & 54 &  500\\\\\n\t3 & Mohisha  & 98345 & 77 &  350\\\\\n\t4 & Resshmi  & 67035 & 12 &  100\\\\\n\t5 & Aditya   & 42345 & 65 & 2000\\\\\n\t6 & Pranay   & 63345 & 34 &   65\\\\\n\\end{tabular}\n",
            "text/plain": [
              "  customer_name customer_id customer_age customer_amount_paid\n",
              "1 Chandana      12643       32            120                \n",
              "2 Sreya         55434       54            500                \n",
              "3 Mohisha       98345       77            350                \n",
              "4 Resshmi       67035       12            100                \n",
              "5 Aditya        42345       65           2000                \n",
              "6 Pranay        63345       34             65                "
            ]
          },
          "metadata": {}
        },
        {
          "output_type": "display_data",
          "data": {
            "text/html": [
              "<table class=\"dataframe\">\n",
              "<caption>A data.frame: 6 × 4</caption>\n",
              "<thead>\n",
              "\t<tr><th></th><th scope=col>customer_name</th><th scope=col>customer_id</th><th scope=col>customer_age</th><th scope=col>customer_amount_paid</th></tr>\n",
              "\t<tr><th></th><th scope=col>&lt;chr&gt;</th><th scope=col>&lt;dbl&gt;</th><th scope=col>&lt;dbl&gt;</th><th scope=col>&lt;dbl&gt;</th></tr>\n",
              "</thead>\n",
              "<tbody>\n",
              "\t<tr><th scope=row>5</th><td>Aditya</td><td>42345</td><td>65</td><td>2000</td></tr>\n",
              "\t<tr><th scope=row>6</th><td>Pranay</td><td>63345</td><td>34</td><td>  65</td></tr>\n",
              "\t<tr><th scope=row>7</th><td>Siddu </td><td>85632</td><td>23</td><td> 420</td></tr>\n",
              "\t<tr><th scope=row>8</th><td>Yousuf</td><td>52467</td><td>62</td><td>  70</td></tr>\n",
              "\t<tr><th scope=row>9</th><td>Rahul </td><td>85673</td><td>73</td><td>1070</td></tr>\n",
              "\t<tr><th scope=row>10</th><td>Suresh</td><td>12324</td><td>10</td><td> 450</td></tr>\n",
              "</tbody>\n",
              "</table>\n"
            ],
            "text/markdown": "\nA data.frame: 6 × 4\n\n| <!--/--> | customer_name &lt;chr&gt; | customer_id &lt;dbl&gt; | customer_age &lt;dbl&gt; | customer_amount_paid &lt;dbl&gt; |\n|---|---|---|---|---|\n| 5 | Aditya | 42345 | 65 | 2000 |\n| 6 | Pranay | 63345 | 34 |   65 |\n| 7 | Siddu  | 85632 | 23 |  420 |\n| 8 | Yousuf | 52467 | 62 |   70 |\n| 9 | Rahul  | 85673 | 73 | 1070 |\n| 10 | Suresh | 12324 | 10 |  450 |\n\n",
            "text/latex": "A data.frame: 6 × 4\n\\begin{tabular}{r|llll}\n  & customer\\_name & customer\\_id & customer\\_age & customer\\_amount\\_paid\\\\\n  & <chr> & <dbl> & <dbl> & <dbl>\\\\\n\\hline\n\t5 & Aditya & 42345 & 65 & 2000\\\\\n\t6 & Pranay & 63345 & 34 &   65\\\\\n\t7 & Siddu  & 85632 & 23 &  420\\\\\n\t8 & Yousuf & 52467 & 62 &   70\\\\\n\t9 & Rahul  & 85673 & 73 & 1070\\\\\n\t10 & Suresh & 12324 & 10 &  450\\\\\n\\end{tabular}\n",
            "text/plain": [
              "   customer_name customer_id customer_age customer_amount_paid\n",
              "5  Aditya        42345       65           2000                \n",
              "6  Pranay        63345       34             65                \n",
              "7  Siddu         85632       23            420                \n",
              "8  Yousuf        52467       62             70                \n",
              "9  Rahul         85673       73           1070                \n",
              "10 Suresh        12324       10            450                "
            ]
          },
          "metadata": {}
        }
      ]
    },
    {
      "cell_type": "code",
      "source": [
        "# f) If the number of columns is too large, again we may face the same problem. So how to see the first 5 rows and first 3 columns?\n",
        "a[1 : 5, 1 : 3]"
      ],
      "metadata": {
        "colab": {
          "base_uri": "https://localhost:8080/",
          "height": 255
        },
        "id": "PG_iPf2c6ZvW",
        "outputId": "7a921065-24f4-4f65-ea8d-c2006957db32"
      },
      "execution_count": 19,
      "outputs": [
        {
          "output_type": "display_data",
          "data": {
            "text/html": [
              "<table class=\"dataframe\">\n",
              "<caption>A data.frame: 5 × 3</caption>\n",
              "<thead>\n",
              "\t<tr><th></th><th scope=col>customer_name</th><th scope=col>customer_id</th><th scope=col>customer_age</th></tr>\n",
              "\t<tr><th></th><th scope=col>&lt;chr&gt;</th><th scope=col>&lt;dbl&gt;</th><th scope=col>&lt;dbl&gt;</th></tr>\n",
              "</thead>\n",
              "<tbody>\n",
              "\t<tr><th scope=row>1</th><td>Chandana</td><td>12643</td><td>32</td></tr>\n",
              "\t<tr><th scope=row>2</th><td>Sreya   </td><td>55434</td><td>54</td></tr>\n",
              "\t<tr><th scope=row>3</th><td>Mohisha </td><td>98345</td><td>77</td></tr>\n",
              "\t<tr><th scope=row>4</th><td>Resshmi </td><td>67035</td><td>12</td></tr>\n",
              "\t<tr><th scope=row>5</th><td>Aditya  </td><td>42345</td><td>65</td></tr>\n",
              "</tbody>\n",
              "</table>\n"
            ],
            "text/markdown": "\nA data.frame: 5 × 3\n\n| <!--/--> | customer_name &lt;chr&gt; | customer_id &lt;dbl&gt; | customer_age &lt;dbl&gt; |\n|---|---|---|---|\n| 1 | Chandana | 12643 | 32 |\n| 2 | Sreya    | 55434 | 54 |\n| 3 | Mohisha  | 98345 | 77 |\n| 4 | Resshmi  | 67035 | 12 |\n| 5 | Aditya   | 42345 | 65 |\n\n",
            "text/latex": "A data.frame: 5 × 3\n\\begin{tabular}{r|lll}\n  & customer\\_name & customer\\_id & customer\\_age\\\\\n  & <chr> & <dbl> & <dbl>\\\\\n\\hline\n\t1 & Chandana & 12643 & 32\\\\\n\t2 & Sreya    & 55434 & 54\\\\\n\t3 & Mohisha  & 98345 & 77\\\\\n\t4 & Resshmi  & 67035 & 12\\\\\n\t5 & Aditya   & 42345 & 65\\\\\n\\end{tabular}\n",
            "text/plain": [
              "  customer_name customer_id customer_age\n",
              "1 Chandana      12643       32          \n",
              "2 Sreya         55434       54          \n",
              "3 Mohisha       98345       77          \n",
              "4 Resshmi       67035       12          \n",
              "5 Aditya        42345       65          "
            ]
          },
          "metadata": {}
        }
      ]
    },
    {
      "cell_type": "code",
      "source": [
        "# g) How to get 1st, 3rd, 6th, and 10th row and 2nd, 4th, and 5th column? \n",
        "a[1,]\n",
        "a[3,]\n",
        "a[6,]\n",
        "a[10,]\n",
        "a[,2]\n",
        "a[,4]"
      ],
      "metadata": {
        "colab": {
          "base_uri": "https://localhost:8080/",
          "height": 501
        },
        "id": "fya7cIdX6cHJ",
        "outputId": "635d0572-dc06-4604-d798-b167d92d64a4"
      },
      "execution_count": 20,
      "outputs": [
        {
          "output_type": "display_data",
          "data": {
            "text/html": [
              "<table class=\"dataframe\">\n",
              "<caption>A data.frame: 1 × 4</caption>\n",
              "<thead>\n",
              "\t<tr><th></th><th scope=col>customer_name</th><th scope=col>customer_id</th><th scope=col>customer_age</th><th scope=col>customer_amount_paid</th></tr>\n",
              "\t<tr><th></th><th scope=col>&lt;chr&gt;</th><th scope=col>&lt;dbl&gt;</th><th scope=col>&lt;dbl&gt;</th><th scope=col>&lt;dbl&gt;</th></tr>\n",
              "</thead>\n",
              "<tbody>\n",
              "\t<tr><th scope=row>1</th><td>Chandana</td><td>12643</td><td>32</td><td>120</td></tr>\n",
              "</tbody>\n",
              "</table>\n"
            ],
            "text/markdown": "\nA data.frame: 1 × 4\n\n| <!--/--> | customer_name &lt;chr&gt; | customer_id &lt;dbl&gt; | customer_age &lt;dbl&gt; | customer_amount_paid &lt;dbl&gt; |\n|---|---|---|---|---|\n| 1 | Chandana | 12643 | 32 | 120 |\n\n",
            "text/latex": "A data.frame: 1 × 4\n\\begin{tabular}{r|llll}\n  & customer\\_name & customer\\_id & customer\\_age & customer\\_amount\\_paid\\\\\n  & <chr> & <dbl> & <dbl> & <dbl>\\\\\n\\hline\n\t1 & Chandana & 12643 & 32 & 120\\\\\n\\end{tabular}\n",
            "text/plain": [
              "  customer_name customer_id customer_age customer_amount_paid\n",
              "1 Chandana      12643       32           120                 "
            ]
          },
          "metadata": {}
        },
        {
          "output_type": "display_data",
          "data": {
            "text/html": [
              "<table class=\"dataframe\">\n",
              "<caption>A data.frame: 1 × 4</caption>\n",
              "<thead>\n",
              "\t<tr><th></th><th scope=col>customer_name</th><th scope=col>customer_id</th><th scope=col>customer_age</th><th scope=col>customer_amount_paid</th></tr>\n",
              "\t<tr><th></th><th scope=col>&lt;chr&gt;</th><th scope=col>&lt;dbl&gt;</th><th scope=col>&lt;dbl&gt;</th><th scope=col>&lt;dbl&gt;</th></tr>\n",
              "</thead>\n",
              "<tbody>\n",
              "\t<tr><th scope=row>3</th><td>Mohisha</td><td>98345</td><td>77</td><td>350</td></tr>\n",
              "</tbody>\n",
              "</table>\n"
            ],
            "text/markdown": "\nA data.frame: 1 × 4\n\n| <!--/--> | customer_name &lt;chr&gt; | customer_id &lt;dbl&gt; | customer_age &lt;dbl&gt; | customer_amount_paid &lt;dbl&gt; |\n|---|---|---|---|---|\n| 3 | Mohisha | 98345 | 77 | 350 |\n\n",
            "text/latex": "A data.frame: 1 × 4\n\\begin{tabular}{r|llll}\n  & customer\\_name & customer\\_id & customer\\_age & customer\\_amount\\_paid\\\\\n  & <chr> & <dbl> & <dbl> & <dbl>\\\\\n\\hline\n\t3 & Mohisha & 98345 & 77 & 350\\\\\n\\end{tabular}\n",
            "text/plain": [
              "  customer_name customer_id customer_age customer_amount_paid\n",
              "3 Mohisha       98345       77           350                 "
            ]
          },
          "metadata": {}
        },
        {
          "output_type": "display_data",
          "data": {
            "text/html": [
              "<table class=\"dataframe\">\n",
              "<caption>A data.frame: 1 × 4</caption>\n",
              "<thead>\n",
              "\t<tr><th></th><th scope=col>customer_name</th><th scope=col>customer_id</th><th scope=col>customer_age</th><th scope=col>customer_amount_paid</th></tr>\n",
              "\t<tr><th></th><th scope=col>&lt;chr&gt;</th><th scope=col>&lt;dbl&gt;</th><th scope=col>&lt;dbl&gt;</th><th scope=col>&lt;dbl&gt;</th></tr>\n",
              "</thead>\n",
              "<tbody>\n",
              "\t<tr><th scope=row>6</th><td>Pranay</td><td>63345</td><td>34</td><td>65</td></tr>\n",
              "</tbody>\n",
              "</table>\n"
            ],
            "text/markdown": "\nA data.frame: 1 × 4\n\n| <!--/--> | customer_name &lt;chr&gt; | customer_id &lt;dbl&gt; | customer_age &lt;dbl&gt; | customer_amount_paid &lt;dbl&gt; |\n|---|---|---|---|---|\n| 6 | Pranay | 63345 | 34 | 65 |\n\n",
            "text/latex": "A data.frame: 1 × 4\n\\begin{tabular}{r|llll}\n  & customer\\_name & customer\\_id & customer\\_age & customer\\_amount\\_paid\\\\\n  & <chr> & <dbl> & <dbl> & <dbl>\\\\\n\\hline\n\t6 & Pranay & 63345 & 34 & 65\\\\\n\\end{tabular}\n",
            "text/plain": [
              "  customer_name customer_id customer_age customer_amount_paid\n",
              "6 Pranay        63345       34           65                  "
            ]
          },
          "metadata": {}
        },
        {
          "output_type": "display_data",
          "data": {
            "text/html": [
              "<table class=\"dataframe\">\n",
              "<caption>A data.frame: 1 × 4</caption>\n",
              "<thead>\n",
              "\t<tr><th></th><th scope=col>customer_name</th><th scope=col>customer_id</th><th scope=col>customer_age</th><th scope=col>customer_amount_paid</th></tr>\n",
              "\t<tr><th></th><th scope=col>&lt;chr&gt;</th><th scope=col>&lt;dbl&gt;</th><th scope=col>&lt;dbl&gt;</th><th scope=col>&lt;dbl&gt;</th></tr>\n",
              "</thead>\n",
              "<tbody>\n",
              "\t<tr><th scope=row>10</th><td>Suresh</td><td>12324</td><td>10</td><td>450</td></tr>\n",
              "</tbody>\n",
              "</table>\n"
            ],
            "text/markdown": "\nA data.frame: 1 × 4\n\n| <!--/--> | customer_name &lt;chr&gt; | customer_id &lt;dbl&gt; | customer_age &lt;dbl&gt; | customer_amount_paid &lt;dbl&gt; |\n|---|---|---|---|---|\n| 10 | Suresh | 12324 | 10 | 450 |\n\n",
            "text/latex": "A data.frame: 1 × 4\n\\begin{tabular}{r|llll}\n  & customer\\_name & customer\\_id & customer\\_age & customer\\_amount\\_paid\\\\\n  & <chr> & <dbl> & <dbl> & <dbl>\\\\\n\\hline\n\t10 & Suresh & 12324 & 10 & 450\\\\\n\\end{tabular}\n",
            "text/plain": [
              "   customer_name customer_id customer_age customer_amount_paid\n",
              "10 Suresh        12324       10           450                 "
            ]
          },
          "metadata": {}
        },
        {
          "output_type": "display_data",
          "data": {
            "text/html": [
              "<style>\n",
              ".list-inline {list-style: none; margin:0; padding: 0}\n",
              ".list-inline>li {display: inline-block}\n",
              ".list-inline>li:not(:last-child)::after {content: \"\\00b7\"; padding: 0 .5ex}\n",
              "</style>\n",
              "<ol class=list-inline><li>12643</li><li>55434</li><li>98345</li><li>67035</li><li>42345</li><li>63345</li><li>85632</li><li>52467</li><li>85673</li><li>12324</li></ol>\n"
            ],
            "text/markdown": "1. 12643\n2. 55434\n3. 98345\n4. 67035\n5. 42345\n6. 63345\n7. 85632\n8. 52467\n9. 85673\n10. 12324\n\n\n",
            "text/latex": "\\begin{enumerate*}\n\\item 12643\n\\item 55434\n\\item 98345\n\\item 67035\n\\item 42345\n\\item 63345\n\\item 85632\n\\item 52467\n\\item 85673\n\\item 12324\n\\end{enumerate*}\n",
            "text/plain": [
              " [1] 12643 55434 98345 67035 42345 63345 85632 52467 85673 12324"
            ]
          },
          "metadata": {}
        },
        {
          "output_type": "display_data",
          "data": {
            "text/html": [
              "<style>\n",
              ".list-inline {list-style: none; margin:0; padding: 0}\n",
              ".list-inline>li {display: inline-block}\n",
              ".list-inline>li:not(:last-child)::after {content: \"\\00b7\"; padding: 0 .5ex}\n",
              "</style>\n",
              "<ol class=list-inline><li>120</li><li>500</li><li>350</li><li>100</li><li>2000</li><li>65</li><li>420</li><li>70</li><li>1070</li><li>450</li></ol>\n"
            ],
            "text/markdown": "1. 120\n2. 500\n3. 350\n4. 100\n5. 2000\n6. 65\n7. 420\n8. 70\n9. 1070\n10. 450\n\n\n",
            "text/latex": "\\begin{enumerate*}\n\\item 120\n\\item 500\n\\item 350\n\\item 100\n\\item 2000\n\\item 65\n\\item 420\n\\item 70\n\\item 1070\n\\item 450\n\\end{enumerate*}\n",
            "text/plain": [
              " [1]  120  500  350  100 2000   65  420   70 1070  450"
            ]
          },
          "metadata": {}
        }
      ]
    },
    {
      "cell_type": "code",
      "source": [
        "# h) How to get values in a specific row or a column?\n",
        "a[3, 3]\n",
        "a[2, 1]\n",
        "a[1, 3]\n",
        "a[1, 2]\n"
      ],
      "metadata": {
        "colab": {
          "base_uri": "https://localhost:8080/",
          "height": 86
        },
        "id": "4oxgDI-56d49",
        "outputId": "ba66c3e3-cfa1-425c-d978-c29221b02899"
      },
      "execution_count": 21,
      "outputs": [
        {
          "output_type": "display_data",
          "data": {
            "text/html": [
              "77"
            ],
            "text/markdown": "77",
            "text/latex": "77",
            "text/plain": [
              "[1] 77"
            ]
          },
          "metadata": {}
        },
        {
          "output_type": "display_data",
          "data": {
            "text/html": [
              "'Sreya'"
            ],
            "text/markdown": "'Sreya'",
            "text/latex": "'Sreya'",
            "text/plain": [
              "[1] \"Sreya\""
            ]
          },
          "metadata": {}
        },
        {
          "output_type": "display_data",
          "data": {
            "text/html": [
              "32"
            ],
            "text/markdown": "32",
            "text/latex": "32",
            "text/plain": [
              "[1] 32"
            ]
          },
          "metadata": {}
        },
        {
          "output_type": "display_data",
          "data": {
            "text/html": [
              "12643"
            ],
            "text/markdown": "12643",
            "text/latex": "12643",
            "text/plain": [
              "[1] 12643"
            ]
          },
          "metadata": {}
        }
      ]
    }
  ]
}